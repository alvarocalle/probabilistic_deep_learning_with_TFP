{
 "cells": [
  {
   "cell_type": "code",
   "execution_count": 1,
   "id": "fbb4952e-9052-4961-9ee3-a97770b2e0d8",
   "metadata": {},
   "outputs": [
    {
     "name": "stderr",
     "output_type": "stream",
     "text": [
      "2023-01-10 10:10:39.845349: I tensorflow/core/platform/cpu_feature_guard.cc:193] This TensorFlow binary is optimized with oneAPI Deep Neural Network Library (oneDNN) to use the following CPU instructions in performance-critical operations:  AVX2 FMA\n",
      "To enable them in other operations, rebuild TensorFlow with the appropriate compiler flags.\n",
      "2023-01-10 10:10:40.000184: W tensorflow/compiler/xla/stream_executor/platform/default/dso_loader.cc:64] Could not load dynamic library 'libcudart.so.11.0'; dlerror: libcudart.so.11.0: cannot open shared object file: No such file or directory\n",
      "2023-01-10 10:10:40.000215: I tensorflow/compiler/xla/stream_executor/cuda/cudart_stub.cc:29] Ignore above cudart dlerror if you do not have a GPU set up on your machine.\n",
      "2023-01-10 10:10:40.711641: W tensorflow/compiler/xla/stream_executor/platform/default/dso_loader.cc:64] Could not load dynamic library 'libnvinfer.so.7'; dlerror: libnvinfer.so.7: cannot open shared object file: No such file or directory\n",
      "2023-01-10 10:10:40.711785: W tensorflow/compiler/xla/stream_executor/platform/default/dso_loader.cc:64] Could not load dynamic library 'libnvinfer_plugin.so.7'; dlerror: libnvinfer_plugin.so.7: cannot open shared object file: No such file or directory\n",
      "2023-01-10 10:10:40.711795: W tensorflow/compiler/tf2tensorrt/utils/py_utils.cc:38] TF-TRT Warning: Cannot dlopen some TensorRT libraries. If you would like to use Nvidia GPU with TensorRT, please make sure the missing libraries mentioned above are installed properly.\n",
      "/home/mach1ne/anaconda3/envs/tfp/lib/python3.9/site-packages/tqdm/auto.py:22: TqdmWarning: IProgress not found. Please update jupyter and ipywidgets. See https://ipywidgets.readthedocs.io/en/stable/user_install.html\n",
      "  from .autonotebook import tqdm as notebook_tqdm\n"
     ]
    }
   ],
   "source": [
    "import tensorflow as tf\n",
    "import tensorflow_probability as tfp\n",
    "import os\n",
    "import numpy as np\n",
    "import matplotlib.pyplot as plt\n",
    "import seaborn as sns\n",
    "sns.set_style(\"darkgrid\")\n",
    "import pandas as pd\n",
    "from tensorflow import keras\n",
    "\n",
    "from tensorflow.keras.models import Sequential\n",
    "from tensorflow.keras.layers import Dense, Flatten, Conv2D, MaxPooling2D\n",
    "from tensorflow.keras.losses import SparseCategoricalCrossentropy, MeanSquaredError\n",
    "from tensorflow.keras.optimizers import RMSprop\n",
    "\n",
    "import tensorflow_datasets as tfds\n",
    "\n",
    "tfd = tfp.distributions\n",
    "tfpl = tfp.layers"
   ]
  },
  {
   "cell_type": "markdown",
   "id": "1de50da8-8f2c-44b3-ade2-ece8aaf6ba69",
   "metadata": {},
   "source": [
    "# Introduction\n",
    "This article belongs to the series \"Probabilistic Deep Learning\". This weekly series covers probabilistic approaches to deep learning. The main goal is to extend deep learning models to quantify uncertainty, i.e. know what they do not know.\n",
    "\n",
    "We develop our models using TensorFlow and TensorFlow Probability. TensorFlow Probability is a Python library built on top of TensorFlow. We are going to start with the basic objects that we can find in TensorFlow Probability and understand how can we manipulate them. We will increase complexity incrementally over the following weeks and combine our probabilistic models with deep learning on modern hardware (e.g. GPU).\n",
    "\n",
    "As usual, the code is available on my GitHub."
   ]
  },
  {
   "cell_type": "markdown",
   "id": "8ab50232-2ee6-40d1-8cae-b7eda9de2530",
   "metadata": {},
   "source": [
    "# Deterministic vs. Probabilistic Deep Learning"
   ]
  },
  {
   "cell_type": "markdown",
   "id": "cdbefa74-e91a-4c76-87fe-34510a2d2012",
   "metadata": {},
   "source": [
    "Deep learning has become the dominant approach for a wide range of machine learning tasks, such as image and speech recognition, natural language processing, and reinforcement learning. A key feature of deep learning is the ability to learn complex, non-linear functions from large amounts of data. However, traditional deep learning models are deterministic, meaning they make the same predictions given the same inputs.\n",
    "\n",
    "Deterministic deep learning models, such as feedforward neural networks, are trained to optimize a scalar-valued loss function, such as mean squared error or cross-entropy. The trained model produces a single prediction for each input, but does not provide any information about the uncertainty of the prediction. In contrast, probabilistic deep learning models, such as variational autoencoders (VAEs) and generative adversarial networks (GANs), are trained to optimize a probabilistic objective, such as the negative log-likelihood of the data or an approximate posterior distribution. These models provide a probabilistic characterization of the uncertainty in their predictions.\n",
    "\n",
    "One of the main advantages of probabilistic deep learning models is the ability to generate new samples from the model. For example, a VAE can be used to generate new images that are similar to the training data, while a GAN can be used to generate new images that are different from the training data. Additionally, probabilistic deep learning models can be used for unsupervised learning, where the goal is to learn a compact representation of the data without any labels.Deep learning has become the dominant approach for a wide range of machine learning tasks, such as image and speech recognition, natural language processing, and reinforcement learning. A key feature of deep learning is the ability to learn complex, non-linear functions from large amounts of data. However, traditional deep learning models are deterministic, meaning they make the same predictions given the same inputs.\n",
    "\n",
    "Deterministic deep learning models, such as feedforward neural networks, are trained to optimize a scalar-valued loss function, such as mean squared error or cross-entropy. The trained model produces a single prediction for each input, but does not provide any information about the uncertainty of the prediction. In contrast, probabilistic deep learning models, such as variational autoencoders (VAEs) and generative adversarial networks (GANs), are trained to optimize a probabilistic objective, such as the negative log-likelihood of the data or an approximate posterior distribution. These models provide a probabilistic characterization of the uncertainty in their predictions.\n",
    "One of the main advantages of probabilistic deep learning models is the ability to generate new samples from the model. For example, a VAE can be used to generate new images that are similar to the training data, while a GAN can be used to generate new images that are different from the training data. Additionally, probabilistic deep learning models can be used for unsupervised learning, where the goal is to learn a compact representation of the data without any labels."
   ]
  },
  {
   "cell_type": "markdown",
   "id": "1a5decbc-1a88-42fe-b1a3-449bb462070a",
   "metadata": {},
   "source": [
    "# Data and Approach"
   ]
  },
  {
   "cell_type": "markdown",
   "id": "cb39bf06-c2c3-4e9d-9633-2d6792b52e56",
   "metadata": {},
   "source": [
    "In this article, we employ the MNIST dataset and its corrupted counterpart as a means of evaluating the performance of our proposed method. The corrupted version of the MNIST dataset introduces an added level of complexity by way of grey spatters superimposed on the original images, making the task of classifying the handwritten digits more challenging.\n",
    "\n",
    "Our objective is to construct a convolutional neural network (CNN) that effectively classifies the images of handwritten digits into 10 distinct classes. To this end, we make use of the aforementioned datasets, in order to provide a comprehensive evaluation of the performance of our proposed CNN architecture. The ultimate goal is to provide a CNN which can demonstrate robust performance, even in the presence of corrupted data."
   ]
  },
  {
   "cell_type": "code",
   "execution_count": 2,
   "id": "42d7face-0f0e-44e5-ac54-50434d0da023",
   "metadata": {},
   "outputs": [],
   "source": [
    "def load_data(name):\n",
    "    data_dir = os.path.join('data', name)\n",
    "    x_train = 1 - np.load(os.path.join(data_dir, 'x_train.npy')) / 255.\n",
    "    x_train = x_train.astype(np.float32)\n",
    "    y_train = np.load(os.path.join(data_dir, 'y_train.npy'))\n",
    "    y_train_oh = tf.keras.utils.to_categorical(y_train)\n",
    "    x_test  = 1 - np.load(os.path.join(data_dir, 'x_test.npy')) / 255.\n",
    "    x_test = x_test.astype(np.float32)\n",
    "    y_test  = np.load(os.path.join(data_dir, 'y_test.npy'))\n",
    "    y_test_oh = tf.keras.utils.to_categorical(y_test)\n",
    "    \n",
    "    return (x_train, y_train, y_train_oh), (x_test, y_test, y_test_oh)\n",
    "\n",
    "def inspect_images(data, num_images):\n",
    "    fig, ax = plt.subplots(nrows=1, ncols=num_images, figsize=(2*num_images, 2))\n",
    "    for i in range(num_images):\n",
    "        ax[i].imshow(data[i, :, :], cmap='gray')\n",
    "        ax[i].axis('off')\n",
    "    plt.show()"
   ]
  },
  {
   "cell_type": "code",
   "execution_count": 3,
   "id": "728fb820-1914-482b-85c2-4af29a820e67",
   "metadata": {},
   "outputs": [
    {
     "data": {
      "image/png": "[encoded data removed]",
      "text/plain": [
       "<Figure size 1600x200 with 8 Axes>"
      ]
     },
     "metadata": {},
     "output_type": "display_data"
    }
   ],
   "source": [
    "(x_train, y_train), (x_test, y_test) = tf.keras.datasets.mnist.load_data()\n",
    "\n",
    "inspect_images(data=x_train, num_images=8)"
   ]
  },
  {
   "cell_type": "code",
   "execution_count": 4,
   "id": "ae1a1889-1dda-4e7d-b85a-004b20ebb6ff",
   "metadata": {},
   "outputs": [],
   "source": [
    "x_train = np.expand_dims(x_train, axis=-1)\n",
    "y_train = np.expand_dims(y_train, axis=-1)\n",
    "x_test = np.expand_dims(x_test, axis=-1)\n",
    "y_test = np.expand_dims(y_test, axis=-1)"
   ]
  },
  {
   "cell_type": "code",
   "execution_count": 20,
   "id": "95913853-7181-44f8-9c30-9fa72460682a",
   "metadata": {},
   "outputs": [],
   "source": [
    "(xy_c_train, xy_c_test) = tfds.load('mnist_corrupted/spatter',\n",
    "                               split=['train', 'test'],\n",
    "                               as_supervised=True)"
   ]
  },
  {
   "cell_type": "code",
   "execution_count": 6,
   "id": "70885efc-e495-4e13-bda5-796a4f80c222",
   "metadata": {},
   "outputs": [],
   "source": [
    "def read_prefetch(dataset):\n",
    "    x = []\n",
    "    y = []\n",
    "    for x_, y_ in dataset:\n",
    "        x.append(x_)\n",
    "        y.append(y_)\n",
    "    x = np.asarray(x)\n",
    "    y = np.asarray(y)\n",
    "    return x, y\n",
    "\n",
    "x_c_train, y_c_train = read_prefetch(xy_c_train)\n",
    "x_c_test, y_c_test = read_prefetch(xy_c_test)"
   ]
  },
  {
   "cell_type": "code",
   "execution_count": 7,
   "id": "63ffa8c8-7be8-496e-9fc1-11fc4a2076e1",
   "metadata": {},
   "outputs": [
    {
     "data": {
      "image/png": "[encoded data removed]",
      "text/plain": [
       "<Figure size 1600x200 with 8 Axes>"
      ]
     },
     "metadata": {},
     "output_type": "display_data"
    }
   ],
   "source": [
    "inspect_images(data=x_c_train, num_images=8)"
   ]
  },
  {
   "cell_type": "markdown",
   "id": "0207d84a-4684-400a-ab5d-22412a7bb473",
   "metadata": {},
   "source": [
    "# Deterministic Architecture\n",
    "\n",
    "We begin by formally introducing the deterministic model, which is a convolutional neural network (CNN) classifier comprised of several key architectural components. Specifically, this model consists of:\n",
    "1. A convolutional layer, in which the convolutional operation is performed by a set of 8 filters with a kernel size of 5x5 and 'VALID' padding, and the output is passed through a rectified linear unit (ReLU) activation function.\n",
    "2. A max-pooling layer, in which the maximum value within non-overlapping windows of size 6x6 is taken, reducing the spatial dimensionality of the feature maps.\n",
    "3. A flatten layer, in which the pooled feature maps are collapsed into a single vector, allowing for the final dense layer to have fully connected computations.\n",
    "4. A dense layer, which is also known as fully-connected layer, has 10 units and applies a softmax activation function to obtain the final probability distribution over the class labels.\n",
    "\n",
    "This CNN classifier architecture is designed to efficiently extract discriminative features and perform classification on high-dimensional image data."
   ]
  },
  {
   "cell_type": "code",
   "execution_count": 8,
   "id": "7001499f-e4a0-4804-8963-685b8619aef8",
   "metadata": {},
   "outputs": [],
   "source": [
    "def get_det_model(input_shape, loss, optimizer, metrics):\n",
    "    \n",
    "    model = Sequential([\n",
    "        Conv2D(input_shape=input_shape,\n",
    "              filters=8,\n",
    "              kernel_size=(5,5),\n",
    "              activation='relu',\n",
    "              padding='valid'),\n",
    "        MaxPooling2D(pool_size=(6,6)),\n",
    "        Flatten(),\n",
    "        Dense(10, activation='softmax')\n",
    "    ])\n",
    "    \n",
    "    model.compile(loss=loss, optimizer=optimizer, metrics=metrics)\n",
    "    return model"
   ]
  },
  {
   "cell_type": "code",
   "execution_count": 9,
   "id": "992d5297-037b-46e2-a5ef-c30a18dce5b4",
   "metadata": {},
   "outputs": [
    {
     "name": "stdout",
     "output_type": "stream",
     "text": [
      "Model: \"sequential\"\n",
      "_________________________________________________________________\n",
      " Layer (type)                Output Shape              Param #   \n",
      "=================================================================\n",
      " conv2d (Conv2D)             (None, 24, 24, 8)         208       \n",
      "                                                                 \n",
      " max_pooling2d (MaxPooling2D  (None, 4, 4, 8)          0         \n",
      " )                                                               \n",
      "                                                                 \n",
      " flatten (Flatten)           (None, 128)               0         \n",
      "                                                                 \n",
      " dense (Dense)               (None, 10)                1290      \n",
      "                                                                 \n",
      "=================================================================\n",
      "Total params: 1,498\n",
      "Trainable params: 1,498\n",
      "Non-trainable params: 0\n",
      "_________________________________________________________________\n"
     ]
    }
   ],
   "source": [
    "tf.random.set_seed(0)\n",
    "deterministic_model = get_det_model(\n",
    "    input_shape=(28, 28, 1), \n",
    "    loss=SparseCategoricalCrossentropy(), \n",
    "    optimizer=RMSprop(), \n",
    "    metrics=['accuracy']\n",
    ")\n",
    "\n",
    "deterministic_model.summary()"
   ]
  },
  {
   "cell_type": "markdown",
   "id": "1f5ed06c-228c-408a-9534-9706c1b7a6ad",
   "metadata": {},
   "source": [
    "We have implemented the architecture discussed above, so now we are ready to start the training procedure."
   ]
  },
  {
   "cell_type": "code",
   "execution_count": 10,
   "id": "e34a36cc-2175-40a1-a78a-b4bdd04036ee",
   "metadata": {},
   "outputs": [
    {
     "name": "stdout",
     "output_type": "stream",
     "text": [
      "Epoch 1/5\n",
      "1875/1875 [==============================] - 8s 4ms/step - loss: 2.1986 - accuracy: 0.8423\n",
      "Epoch 2/5\n",
      "1875/1875 [==============================] - 7s 4ms/step - loss: 0.2248 - accuracy: 0.9470\n",
      "Epoch 3/5\n",
      "1875/1875 [==============================] - 7s 4ms/step - loss: 0.1678 - accuracy: 0.9563\n",
      "Epoch 4/5\n",
      "1875/1875 [==============================] - 7s 4ms/step - loss: 0.1428 - accuracy: 0.9626\n",
      "Epoch 5/5\n",
      "1875/1875 [==============================] - 7s 4ms/step - loss: 0.1336 - accuracy: 0.9641\n"
     ]
    },
    {
     "data": {
      "text/plain": [
       "<keras.callbacks.History at 0x7f1170384370>"
      ]
     },
     "execution_count": 10,
     "metadata": {},
     "output_type": "execute_result"
    }
   ],
   "source": [
    "deterministic_model.fit(x_train, y_train, epochs=5)"
   ]
  },
  {
   "cell_type": "markdown",
   "id": "6657ca5e-634c-441e-bed2-f820be8acd58",
   "metadata": {},
   "source": [
    "Finally, we can check the accuracy on both datasets."
   ]
  },
  {
   "cell_type": "code",
   "execution_count": 11,
   "id": "b8ac42be-d198-4c0c-98b2-cc95bc2c5065",
   "metadata": {},
   "outputs": [
    {
     "name": "stdout",
     "output_type": "stream",
     "text": [
      "Accuracy on MNIST test set:  0.9659000039100647\n",
      "Accuracy on corrupted MNIST test set:  0.902400016784668\n"
     ]
    }
   ],
   "source": [
    "print('Accuracy on MNIST test set: ',\n",
    "      str(deterministic_model.evaluate(x_test, y_test, verbose=False)[1]))\n",
    "print('Accuracy on corrupted MNIST test set: ',\n",
    "      str(deterministic_model.evaluate(x_c_test, y_c_test, verbose=False)[1]))"
   ]
  },
  {
   "cell_type": "markdown",
   "id": "0923cd8e-44d8-4a94-85e4-ccbfe16bc862",
   "metadata": {},
   "source": [
    "# Probabilistic Architecture"
   ]
  },
  {
   "cell_type": "markdown",
   "id": "d368cf89-9b53-494e-9e7b-46bd2c78c30f",
   "metadata": {},
   "source": [
    "In contrast to the deterministic model previously discussed, our probabilistic model introduces a new approach to outputting a distribution object, specifically a One-Hot Categorical distribution. This enables the modeling of aleatoric uncertainty on the image labels, allowing for a more comprehensive characterization of the model's predictions.\n",
    "The One-Hot Categorical distribution is a discrete probability distribution over one-hot bit vectors, with the event dimension equal to K, the number of classes. It is mathematically equivalent to the Categorical distribution, which is a discrete probability distribution over positive integers, with the key distinction being that Categorical has an empty event dimension, whereas One-Hot Categorical has event dimension equal to K.\n",
    "\n",
    "Our proposed probabilistic CNN architecture consists of:\n",
    "1. A convolutional layer, in which the convolutional operation is performed by a set of 8 filters with a kernel size of 5x5 and 'VALID' padding, and the output is passed through a rectified linear unit (ReLU) activation function.\n",
    "2. A max-pooling layer, in which the maximum value within non-overlapping windows of size 6x6 is taken, reducing the spatial dimensionality of the feature maps.\n",
    "3. A flatten layer, in which the pooled feature maps are collapsed into a single vector, allowing for the final dense layer to have fully connected computations.\n",
    "4. A dense layer, which is also known as fully-connected layer, with the number of units required to parameterize the probabilistic layer that follows.\n",
    "5. A OneHotCategorical distribution layer, with an event shape equal to 10, corresponding to the 10 classes.\n",
    "\n",
    "This novel architecture, incorporating One-Hot Categorical output distribution, enables the modeling of aleatoric uncertainty on the image labels, and allows for a more comprehensive characterization of the model's predictions."
   ]
  },
  {
   "cell_type": "code",
   "execution_count": 12,
   "id": "6215c128-c130-4a59-97cd-262faa6a3239",
   "metadata": {},
   "outputs": [],
   "source": [
    "def nll(y_true, y_pred):\n",
    "    return -y_pred.log_prob(y_true)"
   ]
  },
  {
   "cell_type": "code",
   "execution_count": 13,
   "id": "2cca0e76-76fa-41d0-8082-c4cc9f6746c2",
   "metadata": {},
   "outputs": [],
   "source": [
    "def get_probabilistic_model(input_shape, loss, optimizer, metrics):\n",
    "    \n",
    "    model = Sequential([\n",
    "        Conv2D(input_shape=input_shape,\n",
    "              filters=8,\n",
    "              kernel_size=(5,5),\n",
    "              activation='relu',\n",
    "              padding='valid'),\n",
    "        MaxPooling2D(pool_size=(6,6)),\n",
    "        Flatten(),\n",
    "        Dense(10),\n",
    "        tfpl.OneHotCategorical(event_size=10,\n",
    "                              convert_to_tensor_fn=tfd.Distribution.mode)\n",
    "    ])\n",
    "    \n",
    "    model.compile(loss=loss, optimizer=optimizer, metrics=metrics)\n",
    "    return model"
   ]
  },
  {
   "cell_type": "code",
   "execution_count": 14,
   "id": "25cd501a-0a51-4e5c-aeb6-fdbe33ad18a3",
   "metadata": {},
   "outputs": [
    {
     "name": "stdout",
     "output_type": "stream",
     "text": [
      "Model: \"sequential_1\"\n",
      "_________________________________________________________________\n",
      " Layer (type)                Output Shape              Param #   \n",
      "=================================================================\n",
      " conv2d_1 (Conv2D)           (None, 24, 24, 8)         208       \n",
      "                                                                 \n",
      " max_pooling2d_1 (MaxPooling  (None, 4, 4, 8)          0         \n",
      " 2D)                                                             \n",
      "                                                                 \n",
      " flatten_1 (Flatten)         (None, 128)               0         \n",
      "                                                                 \n",
      " dense_1 (Dense)             (None, 10)                1290      \n",
      "                                                                 \n",
      " one_hot_categorical (OneHot  ((None, 10),             0         \n",
      " Categorical)                 (None, 10))                        \n",
      "                                                                 \n",
      "=================================================================\n",
      "Total params: 1,498\n",
      "Trainable params: 1,498\n",
      "Non-trainable params: 0\n",
      "_________________________________________________________________\n"
     ]
    }
   ],
   "source": [
    "tf.random.set_seed(0)\n",
    "probabilistic_model = get_probabilistic_model(\n",
    "    input_shape=(28, 28, 1), \n",
    "    loss=nll, \n",
    "    optimizer=RMSprop(), \n",
    "    metrics=['accuracy'])\n",
    "probabilistic_model.summary()"
   ]
  },
  {
   "cell_type": "markdown",
   "id": "3014bf55-a54a-4ae0-b6f4-da4d876a8dd8",
   "metadata": {},
   "source": [
    "Our implementation of the model is done. Take a moment to compare the implementation above with the one that we did earlier that implements a deterministic architecture. If you have any doubts about specific components that we defined for the probabilistic version of the model, e.g. the loss function, please refer to the earlier articles in this series. Once again, we can now start the training procedure."
   ]
  },
  {
   "cell_type": "code",
   "execution_count": 15,
   "id": "72fe5703-c5e9-41dd-934c-94f792070e36",
   "metadata": {},
   "outputs": [
    {
     "name": "stdout",
     "output_type": "stream",
     "text": [
      "Epoch 1/5\n",
      "1875/1875 [==============================] - 9s 5ms/step - loss: 2.0467 - accuracy: 0.8283\n",
      "Epoch 2/5\n",
      "1875/1875 [==============================] - 8s 5ms/step - loss: 0.1950 - accuracy: 0.9458\n",
      "Epoch 3/5\n",
      "1875/1875 [==============================] - 9s 5ms/step - loss: 0.1545 - accuracy: 0.9574\n",
      "Epoch 4/5\n",
      "1875/1875 [==============================] - 8s 4ms/step - loss: 0.1381 - accuracy: 0.9611\n",
      "Epoch 5/5\n",
      "1875/1875 [==============================] - 8s 4ms/step - loss: 0.1332 - accuracy: 0.9635\n"
     ]
    },
    {
     "data": {
      "text/plain": [
       "<keras.callbacks.History at 0x7f116029f700>"
      ]
     },
     "execution_count": 15,
     "metadata": {},
     "output_type": "execute_result"
    }
   ],
   "source": [
    "probabilistic_model.fit(x_train, tf.keras.utils.to_categorical(y_train), epochs=5)"
   ]
  },
  {
   "cell_type": "markdown",
   "id": "986077c1-636f-4fed-9dff-54a6f0e583a6",
   "metadata": {},
   "source": [
    "Finally, we can check the accuracy of this version of the model. Note that the test accuracy of the probabilistic model is identical to the deterministic one. This is because the model architectures for both are equivalent; the only difference being that the probabilistic model returns a distribution object."
   ]
  },
  {
   "cell_type": "code",
   "execution_count": 16,
   "id": "052c9184-f4fa-4095-bcac-3dbd762936ac",
   "metadata": {},
   "outputs": [
    {
     "name": "stdout",
     "output_type": "stream",
     "text": [
      "Accuracy on MNIST test set:  0.9641000032424927\n",
      "Accuracy on corrupted MNIST test set:  0.8906999826431274\n"
     ]
    }
   ],
   "source": [
    "print('Accuracy on MNIST test set: ',\n",
    "      str(probabilistic_model.evaluate(x_test, tf.keras.utils.to_categorical(y_test), verbose=False)[1]))\n",
    "print('Accuracy on corrupted MNIST test set: ',\n",
    "      str(probabilistic_model.evaluate(x_c_test, tf.keras.utils.to_categorical(y_c_test), verbose=False)[1]))"
   ]
  },
  {
   "cell_type": "markdown",
   "id": "344185fe-5614-465d-97f4-27caf16c87e0",
   "metadata": {},
   "source": [
    "# Results"
   ]
  },
  {
   "cell_type": "markdown",
   "id": "2467082f-1d96-4f3c-8150-700e82cfac69",
   "metadata": {},
   "source": [
    "The accuracy is an important metric to assess the performance of the model. Nonetheless, it is sometimes shallow, since it does not provide information about the uncertainty of the predictions. \n",
    "\n",
    "In this section, we go beyond the predicted label and provide a visual representation of the uncertainty in the predictions. To accomplish this, we sample the predictive distribution of the model and calculate percentiles of the resulting samples."
   ]
  },
  {
   "cell_type": "code",
   "execution_count": 17,
   "id": "e9e7da69-0c83-4b33-84f8-4caae50a7e42",
   "metadata": {},
   "outputs": [],
   "source": [
    "def plot_model_prediction(image, true_label, model):\n",
    "    predicted_probabilities = model(image[np.newaxis, :])\n",
    "    fig, (ax1, ax2) = plt.subplots(nrows=1, ncols=2, figsize=(10, 2),\n",
    "                                   gridspec_kw={'width_ratios': [2, 4]})\n",
    "    \n",
    "    # Show the image and the true label\n",
    "    ax1.imshow(image[..., 0], cmap='gray')\n",
    "    ax1.axis('off')\n",
    "    ax1.set_title('True label: {}'.format(str(true_label)))\n",
    "    \n",
    "    # Show a 95% prediction interval of model predicted probabilities\n",
    "    probs = np.zeros((10, 10))\n",
    "    for i in range(10):\n",
    "        probs[i] = np.array(np.mean(tf.squeeze(predicted_probabilities.sample(100)).numpy(), axis=0))\n",
    "    pct_2p5 = np.percentile(probs, 2.5, axis=0)\n",
    "    pct_97p5 = np.percentile(probs, 97.5, axis=0)\n",
    "    \n",
    "    bar = ax2.bar(np.arange(10), pct_97p5, color='red')\n",
    "    bar[int(true_label)].set_color('green')\n",
    "    ax2.bar(np.arange(10), pct_2p5-0.02, color='white', linewidth=1, edgecolor='white')\n",
    "    ax2.set_xticks(np.arange(10))\n",
    "    ax2.set_ylim([0, 1])\n",
    "    ax2.set_ylabel('Probability')\n",
    "    ax2.set_title('Model estimated probabilities')\n",
    "    plt.show()"
   ]
  },
  {
   "cell_type": "markdown",
   "id": "a479557b-f290-4bf6-9d62-b39715bd0915",
   "metadata": {},
   "source": [
    "The model is very confident that the first image is a 7, which is correct. For the second image, the model struggles, assigning nonzero probabilities to many different classes."
   ]
  },
  {
   "cell_type": "code",
   "execution_count": 18,
   "id": "311eb147-cc17-4f4e-b840-9114de1730f5",
   "metadata": {},
   "outputs": [
    {
     "data": {
      "image/png": "[encoded data removed]",
      "text/plain": [
       "<Figure size 1000x200 with 2 Axes>"
      ]
     },
     "metadata": {},
     "output_type": "display_data"
    },
    {
     "data": {
      "image/png": "[encoded data removed]",
      "text/plain": [
       "<Figure size 1000x200 with 2 Axes>"
      ]
     },
     "metadata": {},
     "output_type": "display_data"
    }
   ],
   "source": [
    "for i in [0, 18]:\n",
    "    plot_model_prediction(x_test[i], np.squeeze(y_test[i]), probabilistic_model)"
   ]
  },
  {
   "cell_type": "markdown",
   "id": "75870bbc-61ce-4778-80fc-07475ce01306",
   "metadata": {},
   "source": [
    "Once again the model is confident about its prediction of the first image. Despite the spatters, the number is still easy to identify. The second number is significantly harder to identify. The model still does a good job by predicting the right number, but also by showing uncertainty about that choice."
   ]
  },
  {
   "cell_type": "code",
   "execution_count": 19,
   "id": "01f503e1-c119-4039-9646-f60c9f6719a5",
   "metadata": {},
   "outputs": [
    {
     "data": {
      "image/png": "[encoded data removed]",
      "text/plain": [
       "<Figure size 1000x200 with 2 Axes>"
      ]
     },
     "metadata": {},
     "output_type": "display_data"
    },
    {
     "data": {
      "image/png": "[encoded data removed]",
      "text/plain": [
       "<Figure size 1000x200 with 2 Axes>"
      ]
     },
     "metadata": {},
     "output_type": "display_data"
    }
   ],
   "source": [
    "for i in [0, 17]:\n",
    "    plot_model_prediction(x_c_test[i], np.squeeze(y_c_test[i]), probabilistic_model)"
   ]
  },
  {
   "cell_type": "markdown",
   "id": "bd119467-2328-4cae-afe0-7fdc03145df2",
   "metadata": {},
   "source": [
    "# Conclusion\n",
    "In this article, we have discussed the key differences between deterministic and probabilistic deep learning models, with a focus on the use of these models for image classification tasks. By analyzing the performance of a CNN on the MNIST dataset and on the corrupted version of the same dataset, we have shown that probabilistic deep learning models can not only achieve similar accuracy levels to deterministic models, but also provide a probabilistic characterization of the uncertainty in their predictions.\n",
    "\n",
    "One of the main advantages of probabilistic deep learning models is the ability to generate new samples from the model. This can be useful for tasks such as image synthesis or data augmentation, where the goal is to create new, realistic images from a given dataset. Additionally, probabilistic deep learning models can be used for unsupervised learning, where the goal is to learn a compact representation of the data without any labels."
   ]
  },
  {
   "cell_type": "code",
   "execution_count": null,
   "id": "51c87a00-910e-4d12-840a-58e49245ff32",
   "metadata": {},
   "outputs": [],
   "source": []
  }
 ],
 "metadata": {
  "kernelspec": {
   "display_name": "Python 3 (ipykernel)",
   "language": "python",
   "name": "python3"
  },
  "language_info": {
   "codemirror_mode": {
    "name": "ipython",
    "version": 3
   },
   "file_extension": ".py",
   "mimetype": "text/x-python",
   "name": "python",
   "nbconvert_exporter": "python",
   "pygments_lexer": "ipython3",
   "version": "3.9.15"
  }
 },
 "nbformat": 4,
 "nbformat_minor": 5
}
